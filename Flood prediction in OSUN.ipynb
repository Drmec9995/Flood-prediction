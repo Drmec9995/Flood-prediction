{
 "cells": [
  {
   "cell_type": "markdown",
   "id": "f3027f0a",
   "metadata": {},
   "source": [
    "## This a a project that ivloves prediting flood suspectibility \n",
    "\n",
    "### This is a multiclass prediction using the flood suspectibility as the dependent feature and the rest of the features as the independent feature\n",
    "\n",
    "#### 1. import data into the jupyter notebook  \n",
    "\n",
    "#### 2. preprocess data \n",
    "\n",
    "#### 3. Analysing data \n",
    "\n",
    "#### 4. choosing model\n",
    "\n",
    "#### 5. Training model\n",
    "\n",
    "#### 6. Evaluating model\n",
    "\n",
    "#### 7. parameter Tunning\n",
    "\n",
    "#### 6. making prediction "
   ]
  },
  {
   "cell_type": "code",
   "execution_count": null,
   "id": "fe00dc54",
   "metadata": {},
   "outputs": [],
   "source": []
  },
  {
   "cell_type": "markdown",
   "id": "be0ed687",
   "metadata": {},
   "source": [
    "###### import the neccessary libraries"
   ]
  },
  {
   "cell_type": "code",
   "execution_count": 2,
   "id": "4978bc3e",
   "metadata": {},
   "outputs": [
    {
     "name": "stderr",
     "output_type": "stream",
     "text": [
      "Enabling notebook extension jupyter-js-widgets/extension...\n",
      "      - Validating: ok\n"
     ]
    }
   ],
   "source": [
    "!jupyter nbextension enable --py widgetsnbextension"
   ]
  },
  {
   "cell_type": "code",
   "execution_count": 3,
   "id": "884d0123",
   "metadata": {},
   "outputs": [
    {
     "name": "stdout",
     "output_type": "stream",
     "text": [
      "1.0.4\n"
     ]
    }
   ],
   "source": [
    "import os\n",
    "import pandas as pd\n",
    "import numpy as np\n",
    "np.set_printoptions(precision=4)\n",
    "\n",
    "import catboost \n",
    "print(catboost.__version__)"
   ]
  },
  {
   "cell_type": "markdown",
   "id": "42d3bb75",
   "metadata": {},
   "source": [
    "##### importing the data..."
   ]
  },
  {
   "cell_type": "markdown",
   "id": "7cf9f847",
   "metadata": {},
   "source": [
    "## Data description "
   ]
  },
  {
   "cell_type": "code",
   "execution_count": 6,
   "id": "9b7ef183",
   "metadata": {},
   "outputs": [],
   "source": [
    "dataset = pd.read_excel('Osun Basin- Processed Numerical Values.xlsx')"
   ]
  },
  {
   "cell_type": "code",
   "execution_count": 7,
   "id": "53c9bfe6",
   "metadata": {},
   "outputs": [
    {
     "data": {
      "text/html": [
       "<div>\n",
       "<style scoped>\n",
       "    .dataframe tbody tr th:only-of-type {\n",
       "        vertical-align: middle;\n",
       "    }\n",
       "\n",
       "    .dataframe tbody tr th {\n",
       "        vertical-align: top;\n",
       "    }\n",
       "\n",
       "    .dataframe thead th {\n",
       "        text-align: right;\n",
       "    }\n",
       "</style>\n",
       "<table border=\"1\" class=\"dataframe\">\n",
       "  <thead>\n",
       "    <tr style=\"text-align: right;\">\n",
       "      <th></th>\n",
       "      <th>Longitude</th>\n",
       "      <th>Latitude</th>\n",
       "      <th>TWI</th>\n",
       "      <th>Soil Type</th>\n",
       "      <th>Slope</th>\n",
       "      <th>Road</th>\n",
       "      <th>River</th>\n",
       "      <th>Rainfall</th>\n",
       "      <th>NDVI</th>\n",
       "      <th>LULC</th>\n",
       "      <th>DrainageD</th>\n",
       "      <th>DEM</th>\n",
       "      <th>Flood Susceptibility</th>\n",
       "    </tr>\n",
       "  </thead>\n",
       "  <tbody>\n",
       "    <tr>\n",
       "      <th>0</th>\n",
       "      <td>594290.5135</td>\n",
       "      <td>711743.7948</td>\n",
       "      <td>3</td>\n",
       "      <td>2</td>\n",
       "      <td>2</td>\n",
       "      <td>5</td>\n",
       "      <td>4</td>\n",
       "      <td>4</td>\n",
       "      <td>3</td>\n",
       "      <td>3</td>\n",
       "      <td>1</td>\n",
       "      <td>5</td>\n",
       "      <td>3</td>\n",
       "    </tr>\n",
       "    <tr>\n",
       "      <th>1</th>\n",
       "      <td>594390.5135</td>\n",
       "      <td>711743.7948</td>\n",
       "      <td>3</td>\n",
       "      <td>2</td>\n",
       "      <td>3</td>\n",
       "      <td>5</td>\n",
       "      <td>4</td>\n",
       "      <td>4</td>\n",
       "      <td>3</td>\n",
       "      <td>3</td>\n",
       "      <td>1</td>\n",
       "      <td>5</td>\n",
       "      <td>3</td>\n",
       "    </tr>\n",
       "    <tr>\n",
       "      <th>2</th>\n",
       "      <td>594490.5135</td>\n",
       "      <td>711743.7948</td>\n",
       "      <td>3</td>\n",
       "      <td>2</td>\n",
       "      <td>2</td>\n",
       "      <td>5</td>\n",
       "      <td>4</td>\n",
       "      <td>4</td>\n",
       "      <td>3</td>\n",
       "      <td>3</td>\n",
       "      <td>1</td>\n",
       "      <td>5</td>\n",
       "      <td>3</td>\n",
       "    </tr>\n",
       "    <tr>\n",
       "      <th>3</th>\n",
       "      <td>594590.5135</td>\n",
       "      <td>711743.7948</td>\n",
       "      <td>3</td>\n",
       "      <td>2</td>\n",
       "      <td>3</td>\n",
       "      <td>5</td>\n",
       "      <td>4</td>\n",
       "      <td>4</td>\n",
       "      <td>3</td>\n",
       "      <td>3</td>\n",
       "      <td>1</td>\n",
       "      <td>5</td>\n",
       "      <td>3</td>\n",
       "    </tr>\n",
       "    <tr>\n",
       "      <th>4</th>\n",
       "      <td>594690.5135</td>\n",
       "      <td>711743.7948</td>\n",
       "      <td>4</td>\n",
       "      <td>2</td>\n",
       "      <td>3</td>\n",
       "      <td>5</td>\n",
       "      <td>4</td>\n",
       "      <td>4</td>\n",
       "      <td>3</td>\n",
       "      <td>3</td>\n",
       "      <td>1</td>\n",
       "      <td>5</td>\n",
       "      <td>4</td>\n",
       "    </tr>\n",
       "    <tr>\n",
       "      <th>...</th>\n",
       "      <td>...</td>\n",
       "      <td>...</td>\n",
       "      <td>...</td>\n",
       "      <td>...</td>\n",
       "      <td>...</td>\n",
       "      <td>...</td>\n",
       "      <td>...</td>\n",
       "      <td>...</td>\n",
       "      <td>...</td>\n",
       "      <td>...</td>\n",
       "      <td>...</td>\n",
       "      <td>...</td>\n",
       "      <td>...</td>\n",
       "    </tr>\n",
       "    <tr>\n",
       "      <th>1015186</th>\n",
       "      <td>634690.5135</td>\n",
       "      <td>921143.7948</td>\n",
       "      <td>2</td>\n",
       "      <td>2</td>\n",
       "      <td>4</td>\n",
       "      <td>5</td>\n",
       "      <td>4</td>\n",
       "      <td>1</td>\n",
       "      <td>2</td>\n",
       "      <td>2</td>\n",
       "      <td>1</td>\n",
       "      <td>2</td>\n",
       "      <td>2</td>\n",
       "    </tr>\n",
       "    <tr>\n",
       "      <th>1015187</th>\n",
       "      <td>634790.5135</td>\n",
       "      <td>921143.7948</td>\n",
       "      <td>2</td>\n",
       "      <td>2</td>\n",
       "      <td>3</td>\n",
       "      <td>5</td>\n",
       "      <td>4</td>\n",
       "      <td>1</td>\n",
       "      <td>1</td>\n",
       "      <td>2</td>\n",
       "      <td>1</td>\n",
       "      <td>2</td>\n",
       "      <td>2</td>\n",
       "    </tr>\n",
       "    <tr>\n",
       "      <th>1015188</th>\n",
       "      <td>634890.5135</td>\n",
       "      <td>921143.7948</td>\n",
       "      <td>2</td>\n",
       "      <td>2</td>\n",
       "      <td>3</td>\n",
       "      <td>5</td>\n",
       "      <td>4</td>\n",
       "      <td>1</td>\n",
       "      <td>1</td>\n",
       "      <td>2</td>\n",
       "      <td>1</td>\n",
       "      <td>2</td>\n",
       "      <td>2</td>\n",
       "    </tr>\n",
       "    <tr>\n",
       "      <th>1015189</th>\n",
       "      <td>634990.5135</td>\n",
       "      <td>921143.7948</td>\n",
       "      <td>2</td>\n",
       "      <td>2</td>\n",
       "      <td>3</td>\n",
       "      <td>5</td>\n",
       "      <td>4</td>\n",
       "      <td>1</td>\n",
       "      <td>1</td>\n",
       "      <td>2</td>\n",
       "      <td>1</td>\n",
       "      <td>2</td>\n",
       "      <td>2</td>\n",
       "    </tr>\n",
       "    <tr>\n",
       "      <th>1015190</th>\n",
       "      <td>635090.5135</td>\n",
       "      <td>921143.7948</td>\n",
       "      <td>2</td>\n",
       "      <td>2</td>\n",
       "      <td>3</td>\n",
       "      <td>5</td>\n",
       "      <td>4</td>\n",
       "      <td>1</td>\n",
       "      <td>1</td>\n",
       "      <td>2</td>\n",
       "      <td>1</td>\n",
       "      <td>2</td>\n",
       "      <td>2</td>\n",
       "    </tr>\n",
       "  </tbody>\n",
       "</table>\n",
       "<p>1015191 rows × 13 columns</p>\n",
       "</div>"
      ],
      "text/plain": [
       "           Longitude     Latitude  TWI  Soil Type  Slope  Road  River  \\\n",
       "0        594290.5135  711743.7948    3          2      2     5      4   \n",
       "1        594390.5135  711743.7948    3          2      3     5      4   \n",
       "2        594490.5135  711743.7948    3          2      2     5      4   \n",
       "3        594590.5135  711743.7948    3          2      3     5      4   \n",
       "4        594690.5135  711743.7948    4          2      3     5      4   \n",
       "...              ...          ...  ...        ...    ...   ...    ...   \n",
       "1015186  634690.5135  921143.7948    2          2      4     5      4   \n",
       "1015187  634790.5135  921143.7948    2          2      3     5      4   \n",
       "1015188  634890.5135  921143.7948    2          2      3     5      4   \n",
       "1015189  634990.5135  921143.7948    2          2      3     5      4   \n",
       "1015190  635090.5135  921143.7948    2          2      3     5      4   \n",
       "\n",
       "         Rainfall  NDVI  LULC  DrainageD  DEM  Flood Susceptibility  \n",
       "0               4     3     3          1    5                     3  \n",
       "1               4     3     3          1    5                     3  \n",
       "2               4     3     3          1    5                     3  \n",
       "3               4     3     3          1    5                     3  \n",
       "4               4     3     3          1    5                     4  \n",
       "...           ...   ...   ...        ...  ...                   ...  \n",
       "1015186         1     2     2          1    2                     2  \n",
       "1015187         1     1     2          1    2                     2  \n",
       "1015188         1     1     2          1    2                     2  \n",
       "1015189         1     1     2          1    2                     2  \n",
       "1015190         1     1     2          1    2                     2  \n",
       "\n",
       "[1015191 rows x 13 columns]"
      ]
     },
     "execution_count": 7,
     "metadata": {},
     "output_type": "execute_result"
    }
   ],
   "source": [
    "dataset"
   ]
  },
  {
   "cell_type": "code",
   "execution_count": 8,
   "id": "71bc65ea",
   "metadata": {},
   "outputs": [
    {
     "data": {
      "text/plain": [
       "'number of rows: 1015191'"
      ]
     },
     "execution_count": 8,
     "metadata": {},
     "output_type": "execute_result"
    }
   ],
   "source": [
    "# Number of row\n",
    "'number of rows: {}'.format(len(dataset))"
   ]
  },
  {
   "cell_type": "code",
   "execution_count": 9,
   "id": "6e525ce0",
   "metadata": {},
   "outputs": [
    {
     "data": {
      "text/plain": [
       "'number of features: 13'"
      ]
     },
     "execution_count": 9,
     "metadata": {},
     "output_type": "execute_result"
    }
   ],
   "source": [
    "# number of columns\n",
    "'number of features: {}'.format(len(dataset.columns))"
   ]
  },
  {
   "cell_type": "code",
   "execution_count": 10,
   "id": "988f2534",
   "metadata": {},
   "outputs": [],
   "source": [
    "features = dataset.columns"
   ]
  },
  {
   "cell_type": "code",
   "execution_count": 11,
   "id": "b9f3ece8",
   "metadata": {},
   "outputs": [
    {
     "data": {
      "text/plain": [
       "Index(['Longitude', 'Latitude', 'TWI', 'Soil Type', 'Slope', 'Road', 'River',\n",
       "       'Rainfall', 'NDVI', 'LULC', 'DrainageD', 'DEM', 'Flood Susceptibility'],\n",
       "      dtype='object')"
      ]
     },
     "execution_count": 11,
     "metadata": {},
     "output_type": "execute_result"
    }
   ],
   "source": [
    "features"
   ]
  },
  {
   "cell_type": "code",
   "execution_count": 12,
   "id": "9589984a",
   "metadata": {},
   "outputs": [
    {
     "name": "stdout",
     "output_type": "stream",
     "text": [
      "<class 'pandas.core.frame.DataFrame'>\n",
      "RangeIndex: 1015191 entries, 0 to 1015190\n",
      "Data columns (total 13 columns):\n",
      " #   Column                Non-Null Count    Dtype  \n",
      "---  ------                --------------    -----  \n",
      " 0   Longitude             1015191 non-null  float64\n",
      " 1   Latitude              1015191 non-null  float64\n",
      " 2   TWI                   1015191 non-null  int64  \n",
      " 3   Soil Type             1015191 non-null  int64  \n",
      " 4   Slope                 1015191 non-null  int64  \n",
      " 5   Road                  1015191 non-null  int64  \n",
      " 6   River                 1015191 non-null  int64  \n",
      " 7   Rainfall              1015191 non-null  int64  \n",
      " 8   NDVI                  1015191 non-null  int64  \n",
      " 9   LULC                  1015191 non-null  int64  \n",
      " 10  DrainageD             1015191 non-null  int64  \n",
      " 11  DEM                   1015191 non-null  int64  \n",
      " 12  Flood Susceptibility  1015191 non-null  int64  \n",
      "dtypes: float64(2), int64(11)\n",
      "memory usage: 100.7 MB\n"
     ]
    }
   ],
   "source": [
    "\n",
    "dataset.info()"
   ]
  },
  {
   "cell_type": "markdown",
   "id": "e9672609",
   "metadata": {},
   "source": [
    "#### No missing value from the data ..."
   ]
  },
  {
   "cell_type": "code",
   "execution_count": 13,
   "id": "6e542806",
   "metadata": {},
   "outputs": [
    {
     "data": {
      "text/html": [
       "<div>\n",
       "<style scoped>\n",
       "    .dataframe tbody tr th:only-of-type {\n",
       "        vertical-align: middle;\n",
       "    }\n",
       "\n",
       "    .dataframe tbody tr th {\n",
       "        vertical-align: top;\n",
       "    }\n",
       "\n",
       "    .dataframe thead th {\n",
       "        text-align: right;\n",
       "    }\n",
       "</style>\n",
       "<table border=\"1\" class=\"dataframe\">\n",
       "  <thead>\n",
       "    <tr style=\"text-align: right;\">\n",
       "      <th></th>\n",
       "      <th>Longitude</th>\n",
       "      <th>Latitude</th>\n",
       "      <th>TWI</th>\n",
       "      <th>Soil Type</th>\n",
       "      <th>Slope</th>\n",
       "      <th>Road</th>\n",
       "      <th>River</th>\n",
       "      <th>Rainfall</th>\n",
       "      <th>NDVI</th>\n",
       "      <th>LULC</th>\n",
       "      <th>DrainageD</th>\n",
       "      <th>DEM</th>\n",
       "      <th>Flood Susceptibility</th>\n",
       "    </tr>\n",
       "  </thead>\n",
       "  <tbody>\n",
       "    <tr>\n",
       "      <th>count</th>\n",
       "      <td>1.015191e+06</td>\n",
       "      <td>1.015191e+06</td>\n",
       "      <td>1.015191e+06</td>\n",
       "      <td>1.015191e+06</td>\n",
       "      <td>1.015191e+06</td>\n",
       "      <td>1.015191e+06</td>\n",
       "      <td>1.015191e+06</td>\n",
       "      <td>1.015191e+06</td>\n",
       "      <td>1.015191e+06</td>\n",
       "      <td>1.015191e+06</td>\n",
       "      <td>1.015191e+06</td>\n",
       "      <td>1.015191e+06</td>\n",
       "      <td>1.015191e+06</td>\n",
       "    </tr>\n",
       "    <tr>\n",
       "      <th>mean</th>\n",
       "      <td>6.524653e+05</td>\n",
       "      <td>8.445971e+05</td>\n",
       "      <td>2.716055e+00</td>\n",
       "      <td>-1.496865e+01</td>\n",
       "      <td>2.783500e+00</td>\n",
       "      <td>4.363800e+00</td>\n",
       "      <td>3.214045e+00</td>\n",
       "      <td>2.912280e+00</td>\n",
       "      <td>1.060490e+00</td>\n",
       "      <td>2.151458e+00</td>\n",
       "      <td>3.195931e+00</td>\n",
       "      <td>3.021261e+00</td>\n",
       "      <td>2.716055e+00</td>\n",
       "    </tr>\n",
       "    <tr>\n",
       "      <th>std</th>\n",
       "      <td>3.543820e+04</td>\n",
       "      <td>4.825379e+04</td>\n",
       "      <td>5.112248e-01</td>\n",
       "      <td>4.158331e+02</td>\n",
       "      <td>1.049980e+00</td>\n",
       "      <td>8.506433e-01</td>\n",
       "      <td>1.264008e+00</td>\n",
       "      <td>1.212308e+00</td>\n",
       "      <td>2.948221e-01</td>\n",
       "      <td>1.066593e+00</td>\n",
       "      <td>1.219641e+00</td>\n",
       "      <td>1.400526e+00</td>\n",
       "      <td>5.112248e-01</td>\n",
       "    </tr>\n",
       "    <tr>\n",
       "      <th>min</th>\n",
       "      <td>5.903905e+05</td>\n",
       "      <td>7.117438e+05</td>\n",
       "      <td>1.000000e+00</td>\n",
       "      <td>-9.999000e+03</td>\n",
       "      <td>1.000000e+00</td>\n",
       "      <td>1.000000e+00</td>\n",
       "      <td>1.000000e+00</td>\n",
       "      <td>1.000000e+00</td>\n",
       "      <td>1.000000e+00</td>\n",
       "      <td>1.000000e+00</td>\n",
       "      <td>1.000000e+00</td>\n",
       "      <td>1.000000e+00</td>\n",
       "      <td>1.000000e+00</td>\n",
       "    </tr>\n",
       "    <tr>\n",
       "      <th>25%</th>\n",
       "      <td>6.242905e+05</td>\n",
       "      <td>8.217438e+05</td>\n",
       "      <td>2.000000e+00</td>\n",
       "      <td>1.000000e+00</td>\n",
       "      <td>2.000000e+00</td>\n",
       "      <td>4.000000e+00</td>\n",
       "      <td>2.000000e+00</td>\n",
       "      <td>2.000000e+00</td>\n",
       "      <td>1.000000e+00</td>\n",
       "      <td>1.000000e+00</td>\n",
       "      <td>2.000000e+00</td>\n",
       "      <td>2.000000e+00</td>\n",
       "      <td>2.000000e+00</td>\n",
       "    </tr>\n",
       "    <tr>\n",
       "      <th>50%</th>\n",
       "      <td>6.393905e+05</td>\n",
       "      <td>8.585438e+05</td>\n",
       "      <td>3.000000e+00</td>\n",
       "      <td>3.000000e+00</td>\n",
       "      <td>3.000000e+00</td>\n",
       "      <td>5.000000e+00</td>\n",
       "      <td>4.000000e+00</td>\n",
       "      <td>3.000000e+00</td>\n",
       "      <td>1.000000e+00</td>\n",
       "      <td>2.000000e+00</td>\n",
       "      <td>3.000000e+00</td>\n",
       "      <td>3.000000e+00</td>\n",
       "      <td>3.000000e+00</td>\n",
       "    </tr>\n",
       "    <tr>\n",
       "      <th>75%</th>\n",
       "      <td>6.808905e+05</td>\n",
       "      <td>8.786438e+05</td>\n",
       "      <td>3.000000e+00</td>\n",
       "      <td>3.000000e+00</td>\n",
       "      <td>4.000000e+00</td>\n",
       "      <td>5.000000e+00</td>\n",
       "      <td>4.000000e+00</td>\n",
       "      <td>4.000000e+00</td>\n",
       "      <td>1.000000e+00</td>\n",
       "      <td>3.000000e+00</td>\n",
       "      <td>4.000000e+00</td>\n",
       "      <td>4.000000e+00</td>\n",
       "      <td>3.000000e+00</td>\n",
       "    </tr>\n",
       "    <tr>\n",
       "      <th>max</th>\n",
       "      <td>7.402905e+05</td>\n",
       "      <td>9.211438e+05</td>\n",
       "      <td>4.000000e+00</td>\n",
       "      <td>5.000000e+00</td>\n",
       "      <td>5.000000e+00</td>\n",
       "      <td>5.000000e+00</td>\n",
       "      <td>5.000000e+00</td>\n",
       "      <td>5.000000e+00</td>\n",
       "      <td>5.000000e+00</td>\n",
       "      <td>5.000000e+00</td>\n",
       "      <td>5.000000e+00</td>\n",
       "      <td>5.000000e+00</td>\n",
       "      <td>4.000000e+00</td>\n",
       "    </tr>\n",
       "  </tbody>\n",
       "</table>\n",
       "</div>"
      ],
      "text/plain": [
       "          Longitude      Latitude           TWI     Soil Type         Slope  \\\n",
       "count  1.015191e+06  1.015191e+06  1.015191e+06  1.015191e+06  1.015191e+06   \n",
       "mean   6.524653e+05  8.445971e+05  2.716055e+00 -1.496865e+01  2.783500e+00   \n",
       "std    3.543820e+04  4.825379e+04  5.112248e-01  4.158331e+02  1.049980e+00   \n",
       "min    5.903905e+05  7.117438e+05  1.000000e+00 -9.999000e+03  1.000000e+00   \n",
       "25%    6.242905e+05  8.217438e+05  2.000000e+00  1.000000e+00  2.000000e+00   \n",
       "50%    6.393905e+05  8.585438e+05  3.000000e+00  3.000000e+00  3.000000e+00   \n",
       "75%    6.808905e+05  8.786438e+05  3.000000e+00  3.000000e+00  4.000000e+00   \n",
       "max    7.402905e+05  9.211438e+05  4.000000e+00  5.000000e+00  5.000000e+00   \n",
       "\n",
       "               Road         River      Rainfall          NDVI          LULC  \\\n",
       "count  1.015191e+06  1.015191e+06  1.015191e+06  1.015191e+06  1.015191e+06   \n",
       "mean   4.363800e+00  3.214045e+00  2.912280e+00  1.060490e+00  2.151458e+00   \n",
       "std    8.506433e-01  1.264008e+00  1.212308e+00  2.948221e-01  1.066593e+00   \n",
       "min    1.000000e+00  1.000000e+00  1.000000e+00  1.000000e+00  1.000000e+00   \n",
       "25%    4.000000e+00  2.000000e+00  2.000000e+00  1.000000e+00  1.000000e+00   \n",
       "50%    5.000000e+00  4.000000e+00  3.000000e+00  1.000000e+00  2.000000e+00   \n",
       "75%    5.000000e+00  4.000000e+00  4.000000e+00  1.000000e+00  3.000000e+00   \n",
       "max    5.000000e+00  5.000000e+00  5.000000e+00  5.000000e+00  5.000000e+00   \n",
       "\n",
       "          DrainageD           DEM  Flood Susceptibility  \n",
       "count  1.015191e+06  1.015191e+06          1.015191e+06  \n",
       "mean   3.195931e+00  3.021261e+00          2.716055e+00  \n",
       "std    1.219641e+00  1.400526e+00          5.112248e-01  \n",
       "min    1.000000e+00  1.000000e+00          1.000000e+00  \n",
       "25%    2.000000e+00  2.000000e+00          2.000000e+00  \n",
       "50%    3.000000e+00  3.000000e+00          3.000000e+00  \n",
       "75%    4.000000e+00  4.000000e+00          3.000000e+00  \n",
       "max    5.000000e+00  5.000000e+00          4.000000e+00  "
      ]
     },
     "execution_count": 13,
     "metadata": {},
     "output_type": "execute_result"
    }
   ],
   "source": [
    "dataset.describe()"
   ]
  },
  {
   "cell_type": "markdown",
   "id": "8d057206",
   "metadata": {},
   "source": [
    "#### we can see from the data that the features are integers, but they look like hashes, if we use it as a numerical data \n",
    "#### the model won't perform well so therefore, we will use it as a categorical data. "
   ]
  },
  {
   "cell_type": "code",
   "execution_count": null,
   "id": "e5bc917c",
   "metadata": {},
   "outputs": [],
   "source": []
  },
  {
   "cell_type": "markdown",
   "id": "eca9748a",
   "metadata": {},
   "source": [
    "#### creating training set and tst set"
   ]
  },
  {
   "cell_type": "code",
   "execution_count": 14,
   "id": "52dfa995",
   "metadata": {},
   "outputs": [],
   "source": [
    "y = dataset['Flood Susceptibility'] \n",
    "X = dataset.drop(['Flood Susceptibility'],axis=1)"
   ]
  },
  {
   "cell_type": "code",
   "execution_count": 15,
   "id": "29124bd1",
   "metadata": {},
   "outputs": [
    {
     "data": {
      "text/plain": [
       "(           Longitude     Latitude  TWI  Soil Type  Slope  Road  River  \\\n",
       " 0        594290.5135  711743.7948    3          2      2     5      4   \n",
       " 1        594390.5135  711743.7948    3          2      3     5      4   \n",
       " 2        594490.5135  711743.7948    3          2      2     5      4   \n",
       " 3        594590.5135  711743.7948    3          2      3     5      4   \n",
       " 4        594690.5135  711743.7948    4          2      3     5      4   \n",
       " ...              ...          ...  ...        ...    ...   ...    ...   \n",
       " 1015186  634690.5135  921143.7948    2          2      4     5      4   \n",
       " 1015187  634790.5135  921143.7948    2          2      3     5      4   \n",
       " 1015188  634890.5135  921143.7948    2          2      3     5      4   \n",
       " 1015189  634990.5135  921143.7948    2          2      3     5      4   \n",
       " 1015190  635090.5135  921143.7948    2          2      3     5      4   \n",
       " \n",
       "          Rainfall  NDVI  LULC  DrainageD  DEM  \n",
       " 0               4     3     3          1    5  \n",
       " 1               4     3     3          1    5  \n",
       " 2               4     3     3          1    5  \n",
       " 3               4     3     3          1    5  \n",
       " 4               4     3     3          1    5  \n",
       " ...           ...   ...   ...        ...  ...  \n",
       " 1015186         1     2     2          1    2  \n",
       " 1015187         1     1     2          1    2  \n",
       " 1015188         1     1     2          1    2  \n",
       " 1015189         1     1     2          1    2  \n",
       " 1015190         1     1     2          1    2  \n",
       " \n",
       " [1015191 rows x 12 columns],\n",
       " 0          3\n",
       " 1          3\n",
       " 2          3\n",
       " 3          3\n",
       " 4          4\n",
       "           ..\n",
       " 1015186    2\n",
       " 1015187    2\n",
       " 1015188    2\n",
       " 1015189    2\n",
       " 1015190    2\n",
       " Name: Flood Susceptibility, Length: 1015191, dtype: int64)"
      ]
     },
     "execution_count": 15,
     "metadata": {},
     "output_type": "execute_result"
    }
   ],
   "source": [
    "X,y"
   ]
  },
  {
   "cell_type": "markdown",
   "id": "bfef1061",
   "metadata": {},
   "source": [
    "## splitting dataset"
   ]
  },
  {
   "cell_type": "code",
   "execution_count": 16,
   "id": "23ea3dbd",
   "metadata": {},
   "outputs": [
    {
     "name": "stdout",
     "output_type": "stream",
     "text": [
      "labels: {1, 2, 3, 4}\n"
     ]
    }
   ],
   "source": [
    "print('labels: {}'.format(set(y)))"
   ]
  },
  {
   "cell_type": "code",
   "execution_count": 17,
   "id": "e1209cd6",
   "metadata": {},
   "outputs": [],
   "source": [
    "y_unique = y.unique()"
   ]
  },
  {
   "cell_type": "code",
   "execution_count": 18,
   "id": "292d832e",
   "metadata": {},
   "outputs": [],
   "source": [
    "#y = [label == y_unique for label in y]"
   ]
  },
  {
   "cell_type": "code",
   "execution_count": 19,
   "id": "f4123032",
   "metadata": {},
   "outputs": [
    {
     "data": {
      "text/plain": [
       "0          3\n",
       "1          3\n",
       "2          3\n",
       "3          3\n",
       "4          4\n",
       "          ..\n",
       "1015186    2\n",
       "1015187    2\n",
       "1015188    2\n",
       "1015189    2\n",
       "1015190    2\n",
       "Name: Flood Susceptibility, Length: 1015191, dtype: int64"
      ]
     },
     "execution_count": 19,
     "metadata": {},
     "output_type": "execute_result"
    }
   ],
   "source": [
    "y"
   ]
  },
  {
   "cell_type": "code",
   "execution_count": 20,
   "id": "c7b5bbd5",
   "metadata": {},
   "outputs": [],
   "source": [
    "#y = [item.astype(int) for item in y]"
   ]
  },
  {
   "cell_type": "markdown",
   "id": "866bc84b",
   "metadata": {},
   "source": [
    "#### splitting dataset to training, validation and test set"
   ]
  },
  {
   "cell_type": "code",
   "execution_count": 21,
   "id": "f7cb1fa0",
   "metadata": {},
   "outputs": [],
   "source": [
    "# import sklearn\n",
    "from sklearn.model_selection import train_test_split\n",
    "split_dataset_1= train_test_split(X,y,test_size=0.3,random_state=0)"
   ]
  },
  {
   "cell_type": "code",
   "execution_count": 1,
   "id": "6a4ff473",
   "metadata": {},
   "outputs": [
    {
     "ename": "NameError",
     "evalue": "name 'split_dataset1' is not defined",
     "output_type": "error",
     "traceback": [
      "\u001b[1;31m---------------------------------------------------------------------------\u001b[0m",
      "\u001b[1;31mNameError\u001b[0m                                 Traceback (most recent call last)",
      "\u001b[1;32mC:\\Users\\ABDULB~1\\AppData\\Local\\Temp/ipykernel_5472/1641109100.py\u001b[0m in \u001b[0;36m<module>\u001b[1;34m\u001b[0m\n\u001b[1;32m----> 1\u001b[1;33m \u001b[0mlen\u001b[0m\u001b[1;33m(\u001b[0m\u001b[0msplit_dataset1\u001b[0m\u001b[1;33m)\u001b[0m\u001b[1;33m\u001b[0m\u001b[1;33m\u001b[0m\u001b[0m\n\u001b[0m",
      "\u001b[1;31mNameError\u001b[0m: name 'split_dataset1' is not defined"
     ]
    }
   ],
   "source": [
    "len(split_dataset_1)"
   ]
  },
  {
   "cell_type": "code",
   "execution_count": null,
   "id": "4bd157a3",
   "metadata": {},
   "outputs": [],
   "source": [
    "X_train,X_val,y_train,y_val = split_dataset_1"
   ]
  },
  {
   "cell_type": "code",
   "execution_count": null,
   "id": "ce15d021",
   "metadata": {},
   "outputs": [],
   "source": [
    "len(X_train)"
   ]
  },
  {
   "cell_type": "markdown",
   "id": "30b8fec7",
   "metadata": {},
   "source": [
    "##### splitting data to validation and test set"
   ]
  },
  {
   "cell_type": "code",
   "execution_count": 194,
   "id": "34780237",
   "metadata": {},
   "outputs": [],
   "source": [
    "from sklearn.model_selection import train_test_split\n",
    "split_dataset_2 = train_test_split(X_val,y_val,test_size=0.2,random_state=0)"
   ]
  },
  {
   "cell_type": "code",
   "execution_count": 197,
   "id": "26a7e98b",
   "metadata": {},
   "outputs": [],
   "source": [
    "X_val,X_test,y_val,y_test = split_dataset_2"
   ]
  },
  {
   "cell_type": "markdown",
   "id": "00ea9bda",
   "metadata": {},
   "source": [
    "### choosing model..."
   ]
  },
  {
   "cell_type": "code",
   "execution_count": 198,
   "id": "91d9a70f",
   "metadata": {},
   "outputs": [],
   "source": [
    "# import Pool\n",
    "from catboost import Pool"
   ]
  },
  {
   "cell_type": "code",
   "execution_count": 199,
   "id": "8d80f5c2",
   "metadata": {},
   "outputs": [
    {
     "data": {
      "text/plain": [
       "(array([ 2,  3,  4,  5,  6,  7,  8,  9, 10, 11], dtype=int64),)"
      ]
     },
     "execution_count": 199,
     "metadata": {},
     "output_type": "execute_result"
    }
   ],
   "source": [
    "np.where(X_train.dtypes != np.float64)"
   ]
  },
  {
   "cell_type": "code",
   "execution_count": 200,
   "id": "96b67acb",
   "metadata": {},
   "outputs": [],
   "source": [
    "cat_feature = np.where(X_train.dtypes != np.float64)[0]"
   ]
  },
  {
   "cell_type": "code",
   "execution_count": 101,
   "id": "37de313d",
   "metadata": {},
   "outputs": [
    {
     "data": {
      "text/plain": [
       "array([ 2,  3,  4,  5,  6,  7,  8,  9, 10, 11], dtype=int64)"
      ]
     },
     "execution_count": 101,
     "metadata": {},
     "output_type": "execute_result"
    }
   ],
   "source": [
    "cat_feature"
   ]
  },
  {
   "cell_type": "markdown",
   "id": "28f94db7",
   "metadata": {},
   "source": [
    "##### making pools..."
   ]
  },
  {
   "cell_type": "code",
   "execution_count": 201,
   "id": "aed5a99f",
   "metadata": {},
   "outputs": [],
   "source": [
    "train_pool = Pool(data = X_train,\n",
    "                  label = y_train,\n",
    "                  cat_features= cat_feature)\n",
    "test_pool = Pool(data = X_val,label = y_val, cat_features=cat_feature)"
   ]
  },
  {
   "cell_type": "code",
   "execution_count": 202,
   "id": "5f9c1ebf",
   "metadata": {},
   "outputs": [],
   "source": [
    "#y_train"
   ]
  },
  {
   "cell_type": "code",
   "execution_count": 203,
   "id": "bdc66d9e",
   "metadata": {},
   "outputs": [
    {
     "data": {
      "text/plain": [
       "0          3\n",
       "1          3\n",
       "2          3\n",
       "3          3\n",
       "4          4\n",
       "          ..\n",
       "1015186    2\n",
       "1015187    2\n",
       "1015188    2\n",
       "1015189    2\n",
       "1015190    2\n",
       "Name: Flood Susceptibility, Length: 1015191, dtype: int64"
      ]
     },
     "execution_count": 203,
     "metadata": {},
     "output_type": "execute_result"
    }
   ],
   "source": [
    "y"
   ]
  },
  {
   "cell_type": "markdown",
   "id": "01609355",
   "metadata": {},
   "source": [
    "##### importing library and testing with 100 iterations"
   ]
  },
  {
   "cell_type": "code",
   "execution_count": 204,
   "id": "cb9d70d1",
   "metadata": {},
   "outputs": [],
   "source": [
    "from catboost import CatBoostClassifier"
   ]
  },
  {
   "cell_type": "code",
   "execution_count": 205,
   "id": "32125333",
   "metadata": {},
   "outputs": [],
   "source": [
    "model = CatBoostClassifier()"
   ]
  },
  {
   "cell_type": "code",
   "execution_count": 206,
   "id": "41ada53b",
   "metadata": {},
   "outputs": [
    {
     "name": "stderr",
     "output_type": "stream",
     "text": [
      "Custom logger is already specified. Specify more than one logger at same time is not thread safe."
     ]
    },
    {
     "name": "stdout",
     "output_type": "stream",
     "text": [
      "Learning rate set to 0.5\n",
      "0:\tlearn: 0.3413488\ttotal: 410ms\tremaining: 40.6s\n",
      "10:\tlearn: 0.0018033\ttotal: 3.95s\tremaining: 32s\n",
      "20:\tlearn: 0.0000301\ttotal: 7.29s\tremaining: 27.4s\n",
      "30:\tlearn: 0.0000084\ttotal: 10.6s\tremaining: 23.6s\n",
      "40:\tlearn: 0.0000050\ttotal: 13.9s\tremaining: 20.1s\n",
      "50:\tlearn: 0.0000036\ttotal: 17.6s\tremaining: 16.9s\n",
      "60:\tlearn: 0.0000029\ttotal: 21s\tremaining: 13.4s\n",
      "70:\tlearn: 0.0000023\ttotal: 24.3s\tremaining: 9.93s\n",
      "80:\tlearn: 0.0000020\ttotal: 27.6s\tremaining: 6.48s\n",
      "90:\tlearn: 0.0000017\ttotal: 31s\tremaining: 3.06s\n",
      "99:\tlearn: 0.0000016\ttotal: 34.3s\tremaining: 0us\n"
     ]
    },
    {
     "data": {
      "text/plain": [
       "<catboost.core.CatBoostClassifier at 0x1c116a14130>"
      ]
     },
     "execution_count": 206,
     "metadata": {},
     "output_type": "execute_result"
    }
   ],
   "source": [
    "model = CatBoostClassifier(iterations=100)\n",
    "model.fit(X_train,y_train,verbose=10)"
   ]
  },
  {
   "cell_type": "code",
   "execution_count": 209,
   "id": "dfb58fef",
   "metadata": {},
   "outputs": [
    {
     "data": {
      "text/plain": [
       "{'learn': {'MultiClass': 1.5700253661484077e-06}}"
      ]
     },
     "execution_count": 209,
     "metadata": {},
     "output_type": "execute_result"
    }
   ],
   "source": [
    "model.best_score_"
   ]
  },
  {
   "cell_type": "markdown",
   "id": "be142f66",
   "metadata": {},
   "source": [
    "### making training and validation  Pool"
   ]
  },
  {
   "cell_type": "code",
   "execution_count": 212,
   "id": "55623949",
   "metadata": {},
   "outputs": [],
   "source": [
    "train_pool = Pool(data = X_train,label = y_train,cat_features=cat_feature)\n",
    "val_pool = Pool(data=X_val,label=y_val,cat_features=cat_feature)"
   ]
  },
  {
   "cell_type": "markdown",
   "id": "ad457f25",
   "metadata": {},
   "source": [
    "### selecting objective function and training model"
   ]
  },
  {
   "cell_type": "code",
   "execution_count": 220,
   "id": "251fd41a",
   "metadata": {},
   "outputs": [
    {
     "name": "stderr",
     "output_type": "stream",
     "text": [
      "Custom logger is already specified. Specify more than one logger at same time is not thread safe."
     ]
    },
    {
     "data": {
      "application/vnd.jupyter.widget-view+json": {
       "model_id": "c8cacffe8a694fbcad5bcef3ed34f743",
       "version_major": 2,
       "version_minor": 0
      },
      "text/plain": [
       "MetricVisualizer(layout=Layout(align_self='stretch', height='500px'))"
      ]
     },
     "metadata": {},
     "output_type": "display_data"
    },
    {
     "name": "stdout",
     "output_type": "stream",
     "text": [
      "Learning rate set to 0.174733\n",
      "0:\tlearn: 0.9130651\ttest: 0.9130789\tbest: 0.9130789 (0)\ttotal: 6.02s\tremaining: 40m 3s\n",
      "20:\tlearn: 0.0168842\ttest: 0.0168750\tbest: 0.0168750 (20)\ttotal: 2m 28s\tremaining: 44m 33s\n",
      "40:\tlearn: 0.0005378\ttest: 0.0005319\tbest: 0.0005319 (40)\ttotal: 5m 26s\tremaining: 47m 38s\n",
      "60:\tlearn: 0.0001143\ttest: 0.0001093\tbest: 0.0001093 (60)\ttotal: 8m 16s\tremaining: 46m\n",
      "80:\tlearn: 0.0000599\ttest: 0.0000564\tbest: 0.0000564 (80)\ttotal: 11m 9s\tremaining: 43m 56s\n",
      "100:\tlearn: 0.0000345\ttest: 0.0000317\tbest: 0.0000317 (100)\ttotal: 14m 9s\tremaining: 41m 56s\n",
      "120:\tlearn: 0.0000281\ttest: 0.0000259\tbest: 0.0000259 (118)\ttotal: 16m 52s\tremaining: 38m 54s\n",
      "140:\tlearn: 0.0000165\ttest: 0.0000147\tbest: 0.0000147 (139)\ttotal: 19m 46s\tremaining: 36m 19s\n",
      "160:\tlearn: 0.0000137\ttest: 0.0000122\tbest: 0.0000122 (157)\ttotal: 22m 34s\tremaining: 33m 30s\n",
      "Stopped by overfitting detector  (10 iterations wait)\n",
      "\n",
      "bestTest = 1.045804564e-05\n",
      "bestIteration = 167\n",
      "\n",
      "Shrink model to first 168 iterations.\n",
      "model fitted True\n",
      "model param: \n",
      "167\n"
     ]
    }
   ],
   "source": [
    "model = CatBoostClassifier(iterations=400,\n",
    "                           custom_metric=['AUC','Accuracy'],\n",
    "                           early_stopping_rounds=10,\n",
    "                           train_dir='flood_pred',\n",
    "                           use_best_model=True\n",
    "                    \n",
    "                          )\n",
    "                           \n",
    "model.fit(X=train_pool,eval_set=val_pool,verbose=20,plot=True)\n",
    "\n",
    "print('model fitted {}'.format(model.is_fitted()))\n",
    "print('model param: \\n{}'.format(model.get_best_iteration()))"
   ]
  },
  {
   "cell_type": "markdown",
   "id": "1671e692",
   "metadata": {},
   "source": [
    "prevented overfitting by using early stopping and using large iteration without initiating a learning rate"
   ]
  },
  {
   "cell_type": "markdown",
   "id": "e685c2aa",
   "metadata": {},
   "source": [
    "##### getting the best score from training and validation data after training .."
   ]
  },
  {
   "cell_type": "code",
   "execution_count": 221,
   "id": "4f7233c7",
   "metadata": {},
   "outputs": [
    {
     "data": {
      "text/plain": [
       "{'learn': {'Accuracy': 1.0, 'MultiClass': 1.182332471195467e-05},\n",
       " 'validation': {'Accuracy': 1.0,\n",
       "  'AUC:type=Mu': 1.0,\n",
       "  'MultiClass': 1.0458045640675782e-05}}"
      ]
     },
     "execution_count": 221,
     "metadata": {},
     "output_type": "execute_result"
    }
   ],
   "source": [
    "model.best_score_"
   ]
  },
  {
   "cell_type": "code",
   "execution_count": 292,
   "id": "e1491577",
   "metadata": {},
   "outputs": [
    {
     "data": {
      "text/html": [
       "<div>\n",
       "<style scoped>\n",
       "    .dataframe tbody tr th:only-of-type {\n",
       "        vertical-align: middle;\n",
       "    }\n",
       "\n",
       "    .dataframe tbody tr th {\n",
       "        vertical-align: top;\n",
       "    }\n",
       "\n",
       "    .dataframe thead th {\n",
       "        text-align: right;\n",
       "    }\n",
       "</style>\n",
       "<table border=\"1\" class=\"dataframe\">\n",
       "  <thead>\n",
       "    <tr style=\"text-align: right;\">\n",
       "      <th></th>\n",
       "      <th>learn</th>\n",
       "      <th>validation</th>\n",
       "    </tr>\n",
       "  </thead>\n",
       "  <tbody>\n",
       "    <tr>\n",
       "      <th>Accuracy</th>\n",
       "      <td>1.000000</td>\n",
       "      <td>1.00000</td>\n",
       "    </tr>\n",
       "    <tr>\n",
       "      <th>MultiClass</th>\n",
       "      <td>0.000012</td>\n",
       "      <td>0.00001</td>\n",
       "    </tr>\n",
       "    <tr>\n",
       "      <th>AUC:type=Mu</th>\n",
       "      <td>NaN</td>\n",
       "      <td>1.00000</td>\n",
       "    </tr>\n",
       "  </tbody>\n",
       "</table>\n",
       "</div>"
      ],
      "text/plain": [
       "                learn  validation\n",
       "Accuracy     1.000000     1.00000\n",
       "MultiClass   0.000012     0.00001\n",
       "AUC:type=Mu       NaN     1.00000"
      ]
     },
     "execution_count": 292,
     "metadata": {},
     "output_type": "execute_result"
    }
   ],
   "source": [
    "pd.DataFrame(model.best_score_)"
   ]
  },
  {
   "cell_type": "code",
   "execution_count": 294,
   "id": "f8548ff6",
   "metadata": {},
   "outputs": [
    {
     "data": {
      "text/plain": [
       "{'learn': {'Accuracy': [0.999822693288941,\n",
       "   0.9998241004850605,\n",
       "   0.999822693288941,\n",
       "   0.9998255076811801,\n",
       "   0.9999957784116414,\n",
       "   0.9999957784116414,\n",
       "   0.9999957784116414,\n",
       "   0.999997185607761,\n",
       "   0.999997185607761,\n",
       "   0.999997185607761,\n",
       "   0.999997185607761,\n",
       "   0.999997185607761,\n",
       "   0.999997185607761,\n",
       "   0.9999957784116414,\n",
       "   0.9999957784116414,\n",
       "   0.9999957784116414,\n",
       "   0.9999957784116414,\n",
       "   0.9999957784116414,\n",
       "   0.9999957784116414,\n",
       "   0.9999957784116414,\n",
       "   0.9999957784116414,\n",
       "   0.9999957784116414,\n",
       "   0.9999957784116414,\n",
       "   0.9999957784116414,\n",
       "   0.9999957784116414,\n",
       "   0.9999957784116414,\n",
       "   0.9999957784116414,\n",
       "   0.9999957784116414,\n",
       "   0.9999957784116414,\n",
       "   0.999997185607761,\n",
       "   0.999997185607761,\n",
       "   0.999997185607761,\n",
       "   0.999997185607761,\n",
       "   0.999997185607761,\n",
       "   0.9999985928038805,\n",
       "   0.9999985928038805,\n",
       "   0.9999985928038805,\n",
       "   0.9999985928038805,\n",
       "   0.9999985928038805,\n",
       "   0.9999985928038805,\n",
       "   0.9999985928038805,\n",
       "   0.9999985928038805,\n",
       "   1.0,\n",
       "   1.0,\n",
       "   1.0,\n",
       "   1.0,\n",
       "   1.0,\n",
       "   1.0,\n",
       "   1.0,\n",
       "   1.0,\n",
       "   1.0,\n",
       "   1.0,\n",
       "   1.0,\n",
       "   1.0,\n",
       "   1.0,\n",
       "   1.0,\n",
       "   1.0,\n",
       "   1.0,\n",
       "   1.0,\n",
       "   1.0,\n",
       "   1.0,\n",
       "   1.0,\n",
       "   1.0,\n",
       "   1.0,\n",
       "   1.0,\n",
       "   1.0,\n",
       "   1.0,\n",
       "   1.0,\n",
       "   1.0,\n",
       "   1.0,\n",
       "   1.0,\n",
       "   1.0,\n",
       "   1.0,\n",
       "   1.0,\n",
       "   1.0,\n",
       "   1.0,\n",
       "   1.0,\n",
       "   1.0,\n",
       "   1.0,\n",
       "   1.0,\n",
       "   1.0,\n",
       "   1.0,\n",
       "   1.0,\n",
       "   1.0,\n",
       "   1.0,\n",
       "   1.0,\n",
       "   1.0,\n",
       "   1.0,\n",
       "   1.0,\n",
       "   1.0,\n",
       "   1.0,\n",
       "   1.0,\n",
       "   1.0,\n",
       "   1.0,\n",
       "   1.0,\n",
       "   1.0,\n",
       "   1.0,\n",
       "   1.0,\n",
       "   1.0,\n",
       "   1.0,\n",
       "   1.0,\n",
       "   1.0,\n",
       "   1.0,\n",
       "   1.0,\n",
       "   1.0,\n",
       "   1.0,\n",
       "   1.0,\n",
       "   1.0,\n",
       "   1.0,\n",
       "   1.0,\n",
       "   1.0,\n",
       "   1.0,\n",
       "   1.0,\n",
       "   1.0,\n",
       "   1.0,\n",
       "   1.0,\n",
       "   1.0,\n",
       "   1.0,\n",
       "   1.0,\n",
       "   1.0,\n",
       "   1.0,\n",
       "   1.0,\n",
       "   1.0,\n",
       "   1.0,\n",
       "   1.0,\n",
       "   1.0,\n",
       "   1.0,\n",
       "   1.0,\n",
       "   1.0,\n",
       "   1.0,\n",
       "   1.0,\n",
       "   1.0,\n",
       "   1.0,\n",
       "   1.0,\n",
       "   1.0,\n",
       "   1.0,\n",
       "   1.0,\n",
       "   1.0,\n",
       "   1.0,\n",
       "   1.0,\n",
       "   1.0,\n",
       "   1.0,\n",
       "   1.0,\n",
       "   1.0,\n",
       "   1.0,\n",
       "   1.0,\n",
       "   1.0,\n",
       "   1.0,\n",
       "   1.0,\n",
       "   1.0,\n",
       "   1.0,\n",
       "   1.0,\n",
       "   1.0,\n",
       "   1.0,\n",
       "   1.0,\n",
       "   1.0,\n",
       "   1.0,\n",
       "   1.0,\n",
       "   1.0,\n",
       "   1.0,\n",
       "   1.0,\n",
       "   1.0,\n",
       "   1.0,\n",
       "   1.0,\n",
       "   1.0,\n",
       "   1.0,\n",
       "   1.0,\n",
       "   1.0,\n",
       "   1.0,\n",
       "   1.0,\n",
       "   1.0,\n",
       "   1.0,\n",
       "   1.0,\n",
       "   1.0,\n",
       "   1.0,\n",
       "   1.0,\n",
       "   1.0,\n",
       "   1.0],\n",
       "  'MultiClass': [0.9130651178605985,\n",
       "   0.6758352221827937,\n",
       "   0.5219265453455191,\n",
       "   0.41237226212269124,\n",
       "   0.33074405515549904,\n",
       "   0.2680234887786153,\n",
       "   0.21882162137667396,\n",
       "   0.17966058372357255,\n",
       "   0.14814374273855238,\n",
       "   0.12256836246079944,\n",
       "   0.1016801317503312,\n",
       "   0.08453584333131448,\n",
       "   0.0704039474463989,\n",
       "   0.058718263988150665,\n",
       "   0.049040344026794636,\n",
       "   0.040987896300857904,\n",
       "   0.034285046127118565,\n",
       "   0.028701357485779774,\n",
       "   0.024037474345238355,\n",
       "   0.020142645694213323,\n",
       "   0.01688423217058689,\n",
       "   0.014159216787226876,\n",
       "   0.01187887489677955,\n",
       "   0.009966341904657542,\n",
       "   0.008367006265080948,\n",
       "   0.00702442290374485,\n",
       "   0.005900350675732837,\n",
       "   0.004956765016861128,\n",
       "   0.004165994274547698,\n",
       "   0.0035025635143990912,\n",
       "   0.0029476502995856267,\n",
       "   0.0024791688663454727,\n",
       "   0.0020858260390156542,\n",
       "   0.0017565970298780772,\n",
       "   0.001481972744585842,\n",
       "   0.0012512138213350648,\n",
       "   0.0010553200240147624,\n",
       "   0.000891405874671599,\n",
       "   0.0007536395342489643,\n",
       "   0.0006362295292275737,\n",
       "   0.0005377543336688109,\n",
       "   0.0004550374640720243,\n",
       "   0.00040648580710325326,\n",
       "   0.000368235308757635,\n",
       "   0.0003315072641660357,\n",
       "   0.0002805827172085337,\n",
       "   0.00025901001242257187,\n",
       "   0.00024224626873449817,\n",
       "   0.000226427732607275,\n",
       "   0.0002159404668318141,\n",
       "   0.0002071777278824519,\n",
       "   0.00020052080781547807,\n",
       "   0.00019536543307330164,\n",
       "   0.00016859167378877515,\n",
       "   0.00014762197212425475,\n",
       "   0.00014478781894915137,\n",
       "   0.00012446602369078487,\n",
       "   0.00011865704344550906,\n",
       "   0.00011742130041896657,\n",
       "   0.00011647399592166969,\n",
       "   0.00011430947066217404,\n",
       "   0.0001124810669614067,\n",
       "   0.00010573689358510544,\n",
       "   0.0001047456661958823,\n",
       "   9.096462439923568e-05,\n",
       "   8.634645359836414e-05,\n",
       "   8.287361232374007e-05,\n",
       "   7.368502867227832e-05,\n",
       "   7.359117955835874e-05,\n",
       "   7.340593262997766e-05,\n",
       "   7.019664986802188e-05,\n",
       "   6.952800302489551e-05,\n",
       "   6.251671680946818e-05,\n",
       "   6.117169030188128e-05,\n",
       "   6.113017160728577e-05,\n",
       "   6.065840228439726e-05,\n",
       "   6.061771355960046e-05,\n",
       "   6.059083273001154e-05,\n",
       "   6.054098340053079e-05,\n",
       "   5.9957774242017946e-05,\n",
       "   5.992763006734395e-05,\n",
       "   5.230907311324801e-05,\n",
       "   5.2281233293115196e-05,\n",
       "   5.2258098997104744e-05,\n",
       "   4.5599191311410095e-05,\n",
       "   4.3965323172450135e-05,\n",
       "   4.3943967638888954e-05,\n",
       "   4.393215464209576e-05,\n",
       "   4.313828452665931e-05,\n",
       "   4.3113124932225486e-05,\n",
       "   4.23290699199529e-05,\n",
       "   4.219415498656865e-05,\n",
       "   4.199860796329299e-05,\n",
       "   4.0633304848333475e-05,\n",
       "   4.059651272831117e-05,\n",
       "   3.927599647235696e-05,\n",
       "   3.926497925758106e-05,\n",
       "   3.9246448674260834e-05,\n",
       "   3.490938913475191e-05,\n",
       "   3.4899516721356044e-05,\n",
       "   3.445103201835374e-05,\n",
       "   3.441730208340261e-05,\n",
       "   3.353509638288999e-05,\n",
       "   3.3331711356837906e-05,\n",
       "   3.332392867725559e-05,\n",
       "   3.33233994563027e-05,\n",
       "   3.2759030480057134e-05,\n",
       "   3.2057559336309394e-05,\n",
       "   3.2037714870571374e-05,\n",
       "   3.201871310646897e-05,\n",
       "   3.200181054182499e-05,\n",
       "   3.1852484658461014e-05,\n",
       "   3.169637227057205e-05,\n",
       "   3.167515826512185e-05,\n",
       "   3.166638950604555e-05,\n",
       "   3.165038426779434e-05,\n",
       "   3.1084295292815125e-05,\n",
       "   3.106863105821843e-05,\n",
       "   2.8144856771443248e-05,\n",
       "   2.813456108720038e-05,\n",
       "   2.8119057070834105e-05,\n",
       "   2.810423290013882e-05,\n",
       "   2.809023217538001e-05,\n",
       "   2.8071378812590318e-05,\n",
       "   2.766491459514921e-05,\n",
       "   2.7658081237851863e-05,\n",
       "   2.719424635644349e-05,\n",
       "   2.7089429585036073e-05,\n",
       "   2.4615213527820195e-05,\n",
       "   2.4600493130591634e-05,\n",
       "   2.4507319980571e-05,\n",
       "   2.4489870582240645e-05,\n",
       "   2.447654785539805e-05,\n",
       "   2.2017021302626278e-05,\n",
       "   1.9955940543984954e-05,\n",
       "   1.9940902411072292e-05,\n",
       "   1.9839404414936307e-05,\n",
       "   1.7782255813297178e-05,\n",
       "   1.776696549062781e-05,\n",
       "   1.6513090533995132e-05,\n",
       "   1.649990709140768e-05,\n",
       "   1.649089575339213e-05,\n",
       "   1.6477776183871538e-05,\n",
       "   1.6462854011053816e-05,\n",
       "   1.645588840391386e-05,\n",
       "   1.6445054734414364e-05,\n",
       "   1.635226732363909e-05,\n",
       "   1.6155062346457756e-05,\n",
       "   1.5072552733643143e-05,\n",
       "   1.506492300609796e-05,\n",
       "   1.4811256802771638e-05,\n",
       "   1.4799752361948055e-05,\n",
       "   1.4787535721321685e-05,\n",
       "   1.4779270835623853e-05,\n",
       "   1.4767680272693248e-05,\n",
       "   1.3733391120010718e-05,\n",
       "   1.3728652003836258e-05,\n",
       "   1.37072652526445e-05,\n",
       "   1.369821048144215e-05,\n",
       "   1.3691212014059895e-05,\n",
       "   1.3682466791442206e-05,\n",
       "   1.3676128727521016e-05,\n",
       "   1.3668757063186648e-05,\n",
       "   1.3666164596468363e-05,\n",
       "   1.2600880697777872e-05,\n",
       "   1.2594456660506025e-05,\n",
       "   1.2588844620071881e-05,\n",
       "   1.1883976550134092e-05,\n",
       "   1.1876406105698524e-05,\n",
       "   1.1872405924038991e-05,\n",
       "   1.1868784889906775e-05,\n",
       "   1.1861423822695918e-05,\n",
       "   1.1857857775887897e-05,\n",
       "   1.1849160704897004e-05,\n",
       "   1.184311130033061e-05,\n",
       "   1.1837241508992972e-05,\n",
       "   1.1829071393694853e-05,\n",
       "   1.182332471195467e-05]},\n",
       " 'validation': {'Accuracy': [0.9998029928667,\n",
       "   0.9998029928667,\n",
       "   0.9998029928667,\n",
       "   0.9998029928667,\n",
       "   1.0,\n",
       "   1.0,\n",
       "   1.0,\n",
       "   1.0,\n",
       "   1.0,\n",
       "   1.0,\n",
       "   1.0,\n",
       "   1.0,\n",
       "   1.0,\n",
       "   1.0,\n",
       "   1.0,\n",
       "   1.0,\n",
       "   1.0,\n",
       "   1.0,\n",
       "   1.0,\n",
       "   1.0,\n",
       "   1.0,\n",
       "   1.0,\n",
       "   1.0,\n",
       "   1.0,\n",
       "   1.0,\n",
       "   1.0,\n",
       "   1.0,\n",
       "   1.0,\n",
       "   1.0,\n",
       "   1.0,\n",
       "   1.0,\n",
       "   1.0,\n",
       "   1.0,\n",
       "   1.0,\n",
       "   1.0,\n",
       "   1.0,\n",
       "   1.0,\n",
       "   1.0,\n",
       "   1.0,\n",
       "   1.0,\n",
       "   1.0,\n",
       "   1.0,\n",
       "   1.0,\n",
       "   1.0,\n",
       "   1.0,\n",
       "   1.0,\n",
       "   1.0,\n",
       "   1.0,\n",
       "   1.0,\n",
       "   1.0,\n",
       "   1.0,\n",
       "   1.0,\n",
       "   1.0,\n",
       "   1.0,\n",
       "   1.0,\n",
       "   1.0,\n",
       "   1.0,\n",
       "   1.0,\n",
       "   1.0,\n",
       "   1.0,\n",
       "   1.0,\n",
       "   1.0,\n",
       "   1.0,\n",
       "   1.0,\n",
       "   1.0,\n",
       "   1.0,\n",
       "   1.0,\n",
       "   1.0,\n",
       "   1.0,\n",
       "   1.0,\n",
       "   1.0,\n",
       "   1.0,\n",
       "   1.0,\n",
       "   1.0,\n",
       "   1.0,\n",
       "   1.0,\n",
       "   1.0,\n",
       "   1.0,\n",
       "   1.0,\n",
       "   1.0,\n",
       "   1.0,\n",
       "   1.0,\n",
       "   1.0,\n",
       "   1.0,\n",
       "   1.0,\n",
       "   1.0,\n",
       "   1.0,\n",
       "   1.0,\n",
       "   1.0,\n",
       "   1.0,\n",
       "   1.0,\n",
       "   1.0,\n",
       "   1.0,\n",
       "   1.0,\n",
       "   1.0,\n",
       "   1.0,\n",
       "   1.0,\n",
       "   1.0,\n",
       "   1.0,\n",
       "   1.0,\n",
       "   1.0,\n",
       "   1.0,\n",
       "   1.0,\n",
       "   1.0,\n",
       "   1.0,\n",
       "   1.0,\n",
       "   1.0,\n",
       "   1.0,\n",
       "   1.0,\n",
       "   1.0,\n",
       "   1.0,\n",
       "   1.0,\n",
       "   1.0,\n",
       "   1.0,\n",
       "   1.0,\n",
       "   1.0,\n",
       "   1.0,\n",
       "   1.0,\n",
       "   1.0,\n",
       "   1.0,\n",
       "   1.0,\n",
       "   1.0,\n",
       "   1.0,\n",
       "   1.0,\n",
       "   1.0,\n",
       "   1.0,\n",
       "   1.0,\n",
       "   1.0,\n",
       "   1.0,\n",
       "   1.0,\n",
       "   1.0,\n",
       "   1.0,\n",
       "   1.0,\n",
       "   1.0,\n",
       "   1.0,\n",
       "   1.0,\n",
       "   1.0,\n",
       "   1.0,\n",
       "   1.0,\n",
       "   1.0,\n",
       "   1.0,\n",
       "   1.0,\n",
       "   1.0,\n",
       "   1.0,\n",
       "   1.0,\n",
       "   1.0,\n",
       "   1.0,\n",
       "   1.0,\n",
       "   1.0,\n",
       "   1.0,\n",
       "   1.0,\n",
       "   1.0,\n",
       "   1.0,\n",
       "   1.0,\n",
       "   1.0,\n",
       "   1.0,\n",
       "   1.0,\n",
       "   1.0,\n",
       "   1.0,\n",
       "   1.0,\n",
       "   1.0,\n",
       "   1.0,\n",
       "   1.0,\n",
       "   1.0,\n",
       "   1.0,\n",
       "   1.0,\n",
       "   1.0,\n",
       "   1.0,\n",
       "   1.0,\n",
       "   1.0,\n",
       "   1.0,\n",
       "   1.0,\n",
       "   1.0,\n",
       "   1.0,\n",
       "   1.0,\n",
       "   1.0,\n",
       "   1.0,\n",
       "   1.0],\n",
       "  'AUC:type=Mu': [0.9166666666666666,\n",
       "   0.9563577728050546,\n",
       "   0.9660710368127768,\n",
       "   1.0,\n",
       "   1.0,\n",
       "   1.0,\n",
       "   1.0,\n",
       "   1.0,\n",
       "   1.0,\n",
       "   1.0,\n",
       "   1.0,\n",
       "   1.0,\n",
       "   1.0,\n",
       "   1.0,\n",
       "   1.0,\n",
       "   1.0,\n",
       "   1.0,\n",
       "   1.0,\n",
       "   1.0,\n",
       "   1.0,\n",
       "   1.0,\n",
       "   1.0,\n",
       "   1.0,\n",
       "   1.0,\n",
       "   1.0,\n",
       "   1.0,\n",
       "   1.0,\n",
       "   1.0,\n",
       "   1.0,\n",
       "   1.0,\n",
       "   1.0,\n",
       "   1.0,\n",
       "   1.0,\n",
       "   1.0,\n",
       "   1.0,\n",
       "   1.0,\n",
       "   1.0,\n",
       "   1.0,\n",
       "   1.0,\n",
       "   1.0,\n",
       "   1.0,\n",
       "   1.0,\n",
       "   1.0,\n",
       "   1.0,\n",
       "   1.0,\n",
       "   1.0,\n",
       "   1.0,\n",
       "   1.0,\n",
       "   1.0,\n",
       "   1.0,\n",
       "   1.0,\n",
       "   1.0,\n",
       "   1.0,\n",
       "   1.0,\n",
       "   1.0,\n",
       "   1.0,\n",
       "   1.0,\n",
       "   1.0,\n",
       "   1.0,\n",
       "   1.0,\n",
       "   1.0,\n",
       "   1.0,\n",
       "   1.0,\n",
       "   1.0,\n",
       "   1.0,\n",
       "   1.0,\n",
       "   1.0,\n",
       "   1.0,\n",
       "   1.0,\n",
       "   1.0,\n",
       "   1.0,\n",
       "   1.0,\n",
       "   1.0,\n",
       "   1.0,\n",
       "   1.0,\n",
       "   1.0,\n",
       "   1.0,\n",
       "   1.0,\n",
       "   1.0,\n",
       "   1.0,\n",
       "   1.0,\n",
       "   1.0,\n",
       "   1.0,\n",
       "   1.0,\n",
       "   1.0,\n",
       "   1.0,\n",
       "   1.0,\n",
       "   1.0,\n",
       "   1.0,\n",
       "   1.0,\n",
       "   1.0,\n",
       "   1.0,\n",
       "   1.0,\n",
       "   1.0,\n",
       "   1.0,\n",
       "   1.0,\n",
       "   1.0,\n",
       "   1.0,\n",
       "   1.0,\n",
       "   1.0,\n",
       "   1.0,\n",
       "   1.0,\n",
       "   1.0,\n",
       "   1.0,\n",
       "   1.0,\n",
       "   1.0,\n",
       "   1.0,\n",
       "   1.0,\n",
       "   1.0,\n",
       "   1.0,\n",
       "   1.0,\n",
       "   1.0,\n",
       "   1.0,\n",
       "   1.0,\n",
       "   1.0,\n",
       "   1.0,\n",
       "   1.0,\n",
       "   1.0,\n",
       "   1.0,\n",
       "   1.0,\n",
       "   1.0,\n",
       "   1.0,\n",
       "   1.0,\n",
       "   1.0,\n",
       "   1.0,\n",
       "   1.0,\n",
       "   1.0,\n",
       "   1.0,\n",
       "   1.0,\n",
       "   1.0,\n",
       "   1.0,\n",
       "   1.0,\n",
       "   1.0,\n",
       "   1.0,\n",
       "   1.0,\n",
       "   1.0,\n",
       "   1.0,\n",
       "   1.0,\n",
       "   1.0,\n",
       "   1.0,\n",
       "   1.0,\n",
       "   1.0,\n",
       "   1.0,\n",
       "   1.0,\n",
       "   1.0,\n",
       "   1.0,\n",
       "   1.0,\n",
       "   1.0,\n",
       "   1.0,\n",
       "   1.0,\n",
       "   1.0,\n",
       "   1.0,\n",
       "   1.0,\n",
       "   1.0,\n",
       "   1.0,\n",
       "   1.0,\n",
       "   1.0,\n",
       "   1.0,\n",
       "   1.0,\n",
       "   1.0,\n",
       "   1.0,\n",
       "   1.0,\n",
       "   1.0,\n",
       "   1.0,\n",
       "   1.0,\n",
       "   1.0,\n",
       "   1.0,\n",
       "   1.0,\n",
       "   1.0,\n",
       "   1.0,\n",
       "   1.0,\n",
       "   1.0,\n",
       "   1.0,\n",
       "   1.0,\n",
       "   1.0,\n",
       "   1.0,\n",
       "   1.0,\n",
       "   1.0],\n",
       "  'MultiClass': [0.9130788521389599,\n",
       "   0.6758563139775842,\n",
       "   0.5219533858929197,\n",
       "   0.41238047529038785,\n",
       "   0.33074681982782045,\n",
       "   0.26801972552103576,\n",
       "   0.2188164068468621,\n",
       "   0.17965342152454752,\n",
       "   0.14813593702949246,\n",
       "   0.12255918093590985,\n",
       "   0.10167065238931536,\n",
       "   0.08452599595041559,\n",
       "   0.07039363539575279,\n",
       "   0.05870790342595924,\n",
       "   0.04903076116071364,\n",
       "   0.04097812830434907,\n",
       "   0.034275311023779696,\n",
       "   0.02869201582683668,\n",
       "   0.024028058926747854,\n",
       "   0.020133289122803093,\n",
       "   0.016874972769978777,\n",
       "   0.014150176979107604,\n",
       "   0.011869961559721942,\n",
       "   0.009957542287926686,\n",
       "   0.008358371827492548,\n",
       "   0.007015811424710108,\n",
       "   0.005892029371300847,\n",
       "   0.004948750294065932,\n",
       "   0.004158261943400249,\n",
       "   0.0034950812131226386,\n",
       "   0.0029403614319368537,\n",
       "   0.0024719960820679663,\n",
       "   0.002078822995660015,\n",
       "   0.0017497266571161643,\n",
       "   0.0014753190908873663,\n",
       "   0.001244692640322826,\n",
       "   0.001048945671340299,\n",
       "   0.0008851679548057617,\n",
       "   0.0007475205252205447,\n",
       "   0.0006302717040700342,\n",
       "   0.0005319079906907214,\n",
       "   0.0004493664822311417,\n",
       "   0.000400982869501455,\n",
       "   0.00036285228956334974,\n",
       "   0.0003262077436949159,\n",
       "   0.00027537755486380593,\n",
       "   0.00025402890581158026,\n",
       "   0.00023717827883756932,\n",
       "   0.00022133441651095561,\n",
       "   0.00021066525102219437,\n",
       "   0.00020189212826990762,\n",
       "   0.0001951021575142557,\n",
       "   0.0001898087055330595,\n",
       "   0.00016318560192680592,\n",
       "   0.00014235347508721386,\n",
       "   0.00013945851872840037,\n",
       "   0.00011930671790170687,\n",
       "   0.00011368311587557833,\n",
       "   0.00011234647282905919,\n",
       "   0.00011132459726628594,\n",
       "   0.0001092618329492159,\n",
       "   0.00010753705780596912,\n",
       "   0.00010087317865450674,\n",
       "   9.994703689543049e-05,\n",
       "   8.627986693833571e-05,\n",
       "   8.178165390231467e-05,\n",
       "   7.850163390367757e-05,\n",
       "   6.940178579857822e-05,\n",
       "   6.931555222490415e-05,\n",
       "   6.914913303399702e-05,\n",
       "   6.607019234485723e-05,\n",
       "   6.54704376421337e-05,\n",
       "   5.8557988827389546e-05,\n",
       "   5.7328276758573846e-05,\n",
       "   5.73102476225836e-05,\n",
       "   5.6935234775125965e-05,\n",
       "   5.6923583142294635e-05,\n",
       "   5.6914793764980215e-05,\n",
       "   5.6883553882432545e-05,\n",
       "   5.636406726789801e-05,\n",
       "   5.636020443768561e-05,\n",
       "   4.88287879321882e-05,\n",
       "   4.883025294452701e-05,\n",
       "   4.8831253826730156e-05,\n",
       "   4.2225426146961214e-05,\n",
       "   4.0666618222623065e-05,\n",
       "   4.06709918725203e-05,\n",
       "   4.0673471200856676e-05,\n",
       "   3.992415239207742e-05,\n",
       "   3.992821189174852e-05,\n",
       "   3.9193767722286706e-05,\n",
       "   3.91211144007032e-05,\n",
       "   3.898356166263977e-05,\n",
       "   3.7666853639279125e-05,\n",
       "   3.7667909833670024e-05,\n",
       "   3.640621333358281e-05,\n",
       "   3.6407308776980315e-05,\n",
       "   3.641016213810698e-05,\n",
       "   3.211238681060651e-05,\n",
       "   3.21143446687426e-05,\n",
       "   3.170795646198475e-05,\n",
       "   3.1709356644842196e-05,\n",
       "   3.088638794188194e-05,\n",
       "   3.072765818923453e-05,\n",
       "   3.073059957038344e-05,\n",
       "   3.072982057494032e-05,\n",
       "   3.0207541014374177e-05,\n",
       "   2.954609159466049e-05,\n",
       "   2.9549857070625094e-05,\n",
       "   2.9553518732494272e-05,\n",
       "   2.9556486350573414e-05,\n",
       "   2.9435088427246765e-05,\n",
       "   2.9310303880496506e-05,\n",
       "   2.9313707664476896e-05,\n",
       "   2.9316931370204805e-05,\n",
       "   2.93200906228284e-05,\n",
       "   2.879493698930135e-05,\n",
       "   2.8798111397750475e-05,\n",
       "   2.590691464606997e-05,\n",
       "   2.5909835810665428e-05,\n",
       "   2.5912956554410247e-05,\n",
       "   2.5916004256806856e-05,\n",
       "   2.5918936377978727e-05,\n",
       "   2.5919342618532907e-05,\n",
       "   2.5544471129683546e-05,\n",
       "   2.5547263826861058e-05,\n",
       "   2.510825240559343e-05,\n",
       "   2.5030544292665917e-05,\n",
       "   2.2587402187050037e-05,\n",
       "   2.2590026340340786e-05,\n",
       "   2.252350377467974e-05,\n",
       "   2.252597214796349e-05,\n",
       "   2.2528480648572567e-05,\n",
       "   2.0093562354286973e-05,\n",
       "   1.8065407341846005e-05,\n",
       "   1.8067163753116462e-05,\n",
       "   1.8004728530094957e-05,\n",
       "   1.5960231603235416e-05,\n",
       "   1.5961489562292318e-05,\n",
       "   1.473265440402988e-05,\n",
       "   1.4733580084746584e-05,\n",
       "   1.4734904466986155e-05,\n",
       "   1.473652545018245e-05,\n",
       "   1.4738314637178892e-05,\n",
       "   1.474021041109169e-05,\n",
       "   1.474217359038932e-05,\n",
       "   1.4669352300962696e-05,\n",
       "   1.449451911427234e-05,\n",
       "   1.3432747726564201e-05,\n",
       "   1.3434238488908603e-05,\n",
       "   1.3200950334170645e-05,\n",
       "   1.3202312057462598e-05,\n",
       "   1.3203940734370491e-05,\n",
       "   1.3205365962077677e-05,\n",
       "   1.3207040460835355e-05,\n",
       "   1.2188398265664933e-05,\n",
       "   1.2189500070868501e-05,\n",
       "   1.218607392072204e-05,\n",
       "   1.2187549671835097e-05,\n",
       "   1.2189057164955983e-05,\n",
       "   1.2190305955352584e-05,\n",
       "   1.2191774840970735e-05,\n",
       "   1.2193223479795702e-05,\n",
       "   1.2194320894992413e-05,\n",
       "   1.1143934083842645e-05,\n",
       "   1.114514946356073e-05,\n",
       "   1.1146604966255022e-05,\n",
       "   1.0458045640675782e-05,\n",
       "   1.0459408909460582e-05,\n",
       "   1.0460777677272603e-05,\n",
       "   1.0462143183546184e-05,\n",
       "   1.0463497429487098e-05,\n",
       "   1.046406639587876e-05,\n",
       "   1.046528970643135e-05,\n",
       "   1.0466529443341402e-05,\n",
       "   1.0467729488746678e-05,\n",
       "   1.0468014748474672e-05,\n",
       "   1.0469163180940978e-05]}}"
      ]
     },
     "execution_count": 294,
     "metadata": {},
     "output_type": "execute_result"
    }
   ],
   "source": [
    "model.evals_result_"
   ]
  },
  {
   "cell_type": "markdown",
   "id": "82d99614",
   "metadata": {},
   "source": [
    "#### checking the numbersof iterations, that is, number of trees "
   ]
  },
  {
   "cell_type": "code",
   "execution_count": 267,
   "id": "b546656e",
   "metadata": {},
   "outputs": [
    {
     "data": {
      "text/plain": [
       "168"
      ]
     },
     "execution_count": 267,
     "metadata": {},
     "output_type": "execute_result"
    }
   ],
   "source": [
    "model.tree_count_"
   ]
  },
  {
   "cell_type": "markdown",
   "id": "2e04c754",
   "metadata": {},
   "source": [
    "##### getting the feature importance "
   ]
  },
  {
   "cell_type": "code",
   "execution_count": 229,
   "id": "cea8264d",
   "metadata": {},
   "outputs": [
    {
     "data": {
      "text/plain": [
       "array([2.2164e+00, 4.2465e+00, 9.2435e+01, 2.2861e-01, 0.0000e+00,\n",
       "       2.3566e-02, 5.7068e-06, 8.8616e-02, 3.5028e-02, 0.0000e+00,\n",
       "       3.9602e-01, 3.3021e-01])"
      ]
     },
     "execution_count": 229,
     "metadata": {},
     "output_type": "execute_result"
    }
   ],
   "source": [
    "model.feature_importances_"
   ]
  },
  {
   "cell_type": "markdown",
   "id": "6bd92996",
   "metadata": {},
   "source": [
    "#### checking the parameters used in the moel for training..."
   ]
  },
  {
   "cell_type": "code",
   "execution_count": 235,
   "id": "6583cf6d",
   "metadata": {},
   "outputs": [
    {
     "data": {
      "text/plain": [
       "{'nan_mode': 'Min',\n",
       " 'eval_metric': 'MultiClass',\n",
       " 'combinations_ctr': ['Borders:CtrBorderCount=15:CtrBorderType=Uniform:TargetBorderCount=3:TargetBorderType=MinEntropy:Prior=0/1:Prior=0.5/1:Prior=1/1',\n",
       "  'Counter:CtrBorderCount=15:CtrBorderType=Uniform:Prior=0/1'],\n",
       " 'iterations': 400,\n",
       " 'sampling_frequency': 'PerTree',\n",
       " 'fold_permutation_block': 0,\n",
       " 'leaf_estimation_method': 'Newton',\n",
       " 'od_pval': 0,\n",
       " 'counter_calc_method': 'SkipTest',\n",
       " 'grow_policy': 'SymmetricTree',\n",
       " 'penalties_coefficient': 1,\n",
       " 'boosting_type': 'Plain',\n",
       " 'model_shrink_mode': 'Constant',\n",
       " 'feature_border_type': 'GreedyLogSum',\n",
       " 'ctr_leaf_count_limit': 18446744073709551615,\n",
       " 'bayesian_matrix_reg': 0.10000000149011612,\n",
       " 'one_hot_max_size': 2,\n",
       " 'force_unit_auto_pair_weights': False,\n",
       " 'l2_leaf_reg': 3,\n",
       " 'random_strength': 1,\n",
       " 'od_type': 'Iter',\n",
       " 'rsm': 1,\n",
       " 'boost_from_average': False,\n",
       " 'max_ctr_complexity': 4,\n",
       " 'model_size_reg': 0.5,\n",
       " 'simple_ctr': ['Borders:CtrBorderCount=15:CtrBorderType=Uniform:TargetBorderCount=3:TargetBorderType=MinEntropy:Prior=0/1:Prior=0.5/1:Prior=1/1',\n",
       "  'Counter:CtrBorderCount=15:CtrBorderType=Uniform:Prior=0/1'],\n",
       " 'pool_metainfo_options': {'tags': {}},\n",
       " 'use_best_model': True,\n",
       " 'od_wait': 10,\n",
       " 'class_names': [1, 2, 3, 4],\n",
       " 'random_seed': 0,\n",
       " 'depth': 6,\n",
       " 'ctr_target_border_count': 1,\n",
       " 'posterior_sampling': False,\n",
       " 'has_time': False,\n",
       " 'store_all_simple_ctr': False,\n",
       " 'border_count': 254,\n",
       " 'bagging_temperature': 1,\n",
       " 'classes_count': 0,\n",
       " 'auto_class_weights': 'None',\n",
       " 'sparse_features_conflict_fraction': 0,\n",
       " 'custom_metric': ['AUC', 'Accuracy'],\n",
       " 'leaf_estimation_backtracking': 'AnyImprovement',\n",
       " 'best_model_min_trees': 1,\n",
       " 'model_shrink_rate': 0,\n",
       " 'min_data_in_leaf': 1,\n",
       " 'loss_function': 'MultiClass',\n",
       " 'learning_rate': 0.1747329980134964,\n",
       " 'score_function': 'Cosine',\n",
       " 'task_type': 'CPU',\n",
       " 'leaf_estimation_iterations': 1,\n",
       " 'bootstrap_type': 'Bayesian',\n",
       " 'max_leaves': 64,\n",
       " 'permutation_count': 4}"
      ]
     },
     "execution_count": 235,
     "metadata": {},
     "output_type": "execute_result"
    }
   ],
   "source": [
    "model.get_all_params()"
   ]
  },
  {
   "cell_type": "markdown",
   "id": "242c3aeb",
   "metadata": {},
   "source": [
    "##### checking the paramters manually tunned for  training "
   ]
  },
  {
   "cell_type": "code",
   "execution_count": 236,
   "id": "ad83f9d6",
   "metadata": {},
   "outputs": [
    {
     "data": {
      "text/plain": [
       "{'iterations': 400,\n",
       " 'use_best_model': True,\n",
       " 'train_dir': 'flood_pred',\n",
       " 'custom_metric': ['AUC', 'Accuracy'],\n",
       " 'early_stopping_rounds': 10}"
      ]
     },
     "execution_count": 236,
     "metadata": {},
     "output_type": "execute_result"
    }
   ],
   "source": [
    "model.get_params()"
   ]
  },
  {
   "cell_type": "markdown",
   "id": "39ded763",
   "metadata": {},
   "source": [
    "##### checking the important features used in classifying the data..."
   ]
  },
  {
   "cell_type": "code",
   "execution_count": 304,
   "id": "4c403bd1",
   "metadata": {},
   "outputs": [
    {
     "data": {
      "text/html": [
       "<div>\n",
       "<style scoped>\n",
       "    .dataframe tbody tr th:only-of-type {\n",
       "        vertical-align: middle;\n",
       "    }\n",
       "\n",
       "    .dataframe tbody tr th {\n",
       "        vertical-align: top;\n",
       "    }\n",
       "\n",
       "    .dataframe thead th {\n",
       "        text-align: right;\n",
       "    }\n",
       "</style>\n",
       "<table border=\"1\" class=\"dataframe\">\n",
       "  <thead>\n",
       "    <tr style=\"text-align: right;\">\n",
       "      <th></th>\n",
       "      <th>Feature Id</th>\n",
       "      <th>Importances</th>\n",
       "    </tr>\n",
       "  </thead>\n",
       "  <tbody>\n",
       "    <tr>\n",
       "      <th>0</th>\n",
       "      <td>TWI</td>\n",
       "      <td>92.439096</td>\n",
       "    </tr>\n",
       "    <tr>\n",
       "      <th>1</th>\n",
       "      <td>Latitude</td>\n",
       "      <td>4.247680</td>\n",
       "    </tr>\n",
       "    <tr>\n",
       "      <th>2</th>\n",
       "      <td>Longitude</td>\n",
       "      <td>2.220926</td>\n",
       "    </tr>\n",
       "    <tr>\n",
       "      <th>3</th>\n",
       "      <td>DrainageD</td>\n",
       "      <td>0.405760</td>\n",
       "    </tr>\n",
       "    <tr>\n",
       "      <th>4</th>\n",
       "      <td>DEM</td>\n",
       "      <td>0.335913</td>\n",
       "    </tr>\n",
       "    <tr>\n",
       "      <th>5</th>\n",
       "      <td>Soil Type</td>\n",
       "      <td>0.213966</td>\n",
       "    </tr>\n",
       "    <tr>\n",
       "      <th>6</th>\n",
       "      <td>Rainfall</td>\n",
       "      <td>0.081345</td>\n",
       "    </tr>\n",
       "    <tr>\n",
       "      <th>7</th>\n",
       "      <td>NDVI</td>\n",
       "      <td>0.031941</td>\n",
       "    </tr>\n",
       "    <tr>\n",
       "      <th>8</th>\n",
       "      <td>Road</td>\n",
       "      <td>0.023374</td>\n",
       "    </tr>\n",
       "    <tr>\n",
       "      <th>9</th>\n",
       "      <td>Slope</td>\n",
       "      <td>0.000000</td>\n",
       "    </tr>\n",
       "    <tr>\n",
       "      <th>10</th>\n",
       "      <td>River</td>\n",
       "      <td>0.000000</td>\n",
       "    </tr>\n",
       "    <tr>\n",
       "      <th>11</th>\n",
       "      <td>LULC</td>\n",
       "      <td>0.000000</td>\n",
       "    </tr>\n",
       "  </tbody>\n",
       "</table>\n",
       "</div>"
      ],
      "text/plain": [
       "   Feature Id  Importances\n",
       "0         TWI    92.439096\n",
       "1    Latitude     4.247680\n",
       "2   Longitude     2.220926\n",
       "3   DrainageD     0.405760\n",
       "4         DEM     0.335913\n",
       "5   Soil Type     0.213966\n",
       "6    Rainfall     0.081345\n",
       "7        NDVI     0.031941\n",
       "8        Road     0.023374\n",
       "9       Slope     0.000000\n",
       "10      River     0.000000\n",
       "11       LULC     0.000000"
      ]
     },
     "execution_count": 304,
     "metadata": {},
     "output_type": "execute_result"
    }
   ],
   "source": [
    "model.get_feature_importance(train_pool,prettified=True,)"
   ]
  },
  {
   "cell_type": "markdown",
   "id": "06fc2c46",
   "metadata": {},
   "source": [
    "### loss function change"
   ]
  },
  {
   "cell_type": "markdown",
   "id": "0d3a1de1",
   "metadata": {},
   "source": [
    "###### note: for a negative loss function change, it means the feature is not really  good at predictiing the classes , also note that this is not always true when you underfit, probably when you train a model with small iteration.. negative loss change  may fire up saying 'you can do without the the features since you are using small iteration' , increase the itration may later changes the feature with negative loss function to positive "
   ]
  },
  {
   "cell_type": "code",
   "execution_count": 298,
   "id": "0523ffcb",
   "metadata": {},
   "outputs": [],
   "source": [
    "loss_funct_chg = model.get_feature_importance(train_pool,'LossFunctionChange',prettified=True,)"
   ]
  },
  {
   "cell_type": "code",
   "execution_count": 302,
   "id": "5fdfcc4e",
   "metadata": {},
   "outputs": [
    {
     "data": {
      "text/html": [
       "<div>\n",
       "<style scoped>\n",
       "    .dataframe tbody tr th:only-of-type {\n",
       "        vertical-align: middle;\n",
       "    }\n",
       "\n",
       "    .dataframe tbody tr th {\n",
       "        vertical-align: top;\n",
       "    }\n",
       "\n",
       "    .dataframe thead th {\n",
       "        text-align: right;\n",
       "    }\n",
       "</style>\n",
       "<table border=\"1\" class=\"dataframe\">\n",
       "  <thead>\n",
       "    <tr style=\"text-align: right;\">\n",
       "      <th></th>\n",
       "      <th>Feature Id</th>\n",
       "      <th>Importances</th>\n",
       "    </tr>\n",
       "  </thead>\n",
       "  <tbody>\n",
       "    <tr>\n",
       "      <th>0</th>\n",
       "      <td>TWI</td>\n",
       "      <td>1.365704e+00</td>\n",
       "    </tr>\n",
       "    <tr>\n",
       "      <th>1</th>\n",
       "      <td>Longitude</td>\n",
       "      <td>3.854690e-06</td>\n",
       "    </tr>\n",
       "    <tr>\n",
       "      <th>2</th>\n",
       "      <td>Latitude</td>\n",
       "      <td>3.701130e-06</td>\n",
       "    </tr>\n",
       "    <tr>\n",
       "      <th>3</th>\n",
       "      <td>DEM</td>\n",
       "      <td>2.128100e-07</td>\n",
       "    </tr>\n",
       "    <tr>\n",
       "      <th>4</th>\n",
       "      <td>DrainageD</td>\n",
       "      <td>1.329843e-07</td>\n",
       "    </tr>\n",
       "    <tr>\n",
       "      <th>5</th>\n",
       "      <td>Rainfall</td>\n",
       "      <td>3.125862e-08</td>\n",
       "    </tr>\n",
       "    <tr>\n",
       "      <th>6</th>\n",
       "      <td>Soil Type</td>\n",
       "      <td>1.111883e-08</td>\n",
       "    </tr>\n",
       "    <tr>\n",
       "      <th>7</th>\n",
       "      <td>NDVI</td>\n",
       "      <td>4.266677e-09</td>\n",
       "    </tr>\n",
       "    <tr>\n",
       "      <th>8</th>\n",
       "      <td>Road</td>\n",
       "      <td>3.225949e-09</td>\n",
       "    </tr>\n",
       "    <tr>\n",
       "      <th>9</th>\n",
       "      <td>River</td>\n",
       "      <td>1.662160e-10</td>\n",
       "    </tr>\n",
       "    <tr>\n",
       "      <th>10</th>\n",
       "      <td>Slope</td>\n",
       "      <td>0.000000e+00</td>\n",
       "    </tr>\n",
       "    <tr>\n",
       "      <th>11</th>\n",
       "      <td>LULC</td>\n",
       "      <td>0.000000e+00</td>\n",
       "    </tr>\n",
       "  </tbody>\n",
       "</table>\n",
       "</div>"
      ],
      "text/plain": [
       "   Feature Id   Importances\n",
       "0         TWI  1.365704e+00\n",
       "1   Longitude  3.854690e-06\n",
       "2    Latitude  3.701130e-06\n",
       "3         DEM  2.128100e-07\n",
       "4   DrainageD  1.329843e-07\n",
       "5    Rainfall  3.125862e-08\n",
       "6   Soil Type  1.111883e-08\n",
       "7        NDVI  4.266677e-09\n",
       "8        Road  3.225949e-09\n",
       "9       River  1.662160e-10\n",
       "10      Slope  0.000000e+00\n",
       "11       LULC  0.000000e+00"
      ]
     },
     "execution_count": 302,
     "metadata": {},
     "output_type": "execute_result"
    }
   ],
   "source": [
    "loss_funct_chg"
   ]
  },
  {
   "cell_type": "markdown",
   "id": "c1961386",
   "metadata": {},
   "source": [
    "###### It was observed from the data that slope and LULC has no effect in the classification of the data."
   ]
  },
  {
   "cell_type": "markdown",
   "id": "5bc1b5a2",
   "metadata": {},
   "source": [
    "### making some predictions  with Test Data"
   ]
  },
  {
   "cell_type": "code",
   "execution_count": 271,
   "id": "b12193f1",
   "metadata": {},
   "outputs": [
    {
     "data": {
      "text/plain": [
       "array([[3],\n",
       "       [3],\n",
       "       [3],\n",
       "       ...,\n",
       "       [4],\n",
       "       [3],\n",
       "       [2]], dtype=int64)"
      ]
     },
     "execution_count": 271,
     "metadata": {},
     "output_type": "execute_result"
    }
   ],
   "source": [
    "pred = model.predict(X_test)\n",
    "pred"
   ]
  },
  {
   "cell_type": "markdown",
   "id": "773dcc14",
   "metadata": {},
   "source": [
    "### using sklearn to calculate the metrics"
   ]
  },
  {
   "cell_type": "code",
   "execution_count": 272,
   "id": "9e76982c",
   "metadata": {},
   "outputs": [
    {
     "data": {
      "text/plain": [
       "array([[    8,     0,     0,     0],\n",
       "       [    0, 18905,     0,     0],\n",
       "       [    0,     0, 40235,     0],\n",
       "       [    0,     0,     0,  1764]], dtype=int64)"
      ]
     },
     "execution_count": 272,
     "metadata": {},
     "output_type": "execute_result"
    }
   ],
   "source": [
    "from sklearn.metrics import confusion_matrix,accuracy_score\n",
    "confusion_matrix(pred,y_test)"
   ]
  },
  {
   "cell_type": "markdown",
   "id": "d5065739",
   "metadata": {},
   "source": [
    "note: from the confusion matrix that we have no False positive and True nagative "
   ]
  },
  {
   "cell_type": "code",
   "execution_count": 273,
   "id": "a28d371e",
   "metadata": {},
   "outputs": [
    {
     "data": {
      "text/plain": [
       "1.0"
      ]
     },
     "execution_count": 273,
     "metadata": {},
     "output_type": "execute_result"
    }
   ],
   "source": [
    "accu = accuracy_score(pred,y_test)\n",
    "accu"
   ]
  },
  {
   "cell_type": "markdown",
   "id": "3289a12b",
   "metadata": {},
   "source": [
    "the predicted accuracy of the test data is 100% "
   ]
  },
  {
   "cell_type": "markdown",
   "id": "29c95ef2",
   "metadata": {},
   "source": [
    "#### making a sigmoid prediction of the testing data "
   ]
  },
  {
   "cell_type": "code",
   "execution_count": 284,
   "id": "6b7ad566",
   "metadata": {},
   "outputs": [
    {
     "data": {
      "text/plain": [
       "array([[4.8771e-07, 7.6088e-06, 9.9999e-01, 1.3603e-06],\n",
       "       [2.6905e-07, 2.8197e-06, 1.0000e+00, 1.3609e-06],\n",
       "       [3.5546e-07, 4.3124e-06, 9.9999e-01, 1.1022e-06],\n",
       "       ...,\n",
       "       [2.1190e-06, 4.7797e-06, 2.8504e-05, 9.9996e-01],\n",
       "       [2.8212e-07, 3.5460e-06, 1.0000e+00, 1.1459e-06],\n",
       "       [7.6093e-07, 9.9999e-01, 9.8131e-06, 1.2088e-06]])"
      ]
     },
     "execution_count": 284,
     "metadata": {},
     "output_type": "execute_result"
    }
   ],
   "source": [
    "proba_prict = model.predict_proba(X_test,)\n",
    "proba_prict"
   ]
  },
  {
   "cell_type": "markdown",
   "id": "1876b7d2",
   "metadata": {},
   "source": [
    "### making test pool"
   ]
  },
  {
   "cell_type": "code",
   "execution_count": 286,
   "id": "d821f7a4",
   "metadata": {},
   "outputs": [],
   "source": [
    "test_pool = Pool(X_test,label=y_test,cat_features=cat_feature)"
   ]
  },
  {
   "cell_type": "markdown",
   "id": "514fc0c4",
   "metadata": {},
   "source": [
    "##### calculating the metric using catboost algorithm and plotting it"
   ]
  },
  {
   "cell_type": "code",
   "execution_count": 1,
   "id": "e5ee58d7",
   "metadata": {},
   "outputs": [
    {
     "ename": "NameError",
     "evalue": "name 'model' is not defined",
     "output_type": "error",
     "traceback": [
      "\u001b[1;31m---------------------------------------------------------------------------\u001b[0m",
      "\u001b[1;31mNameError\u001b[0m                                 Traceback (most recent call last)",
      "\u001b[1;32mC:\\Users\\ABDULB~1\\AppData\\Local\\Temp/ipykernel_5548/2515637353.py\u001b[0m in \u001b[0;36m<module>\u001b[1;34m\u001b[0m\n\u001b[1;32m----> 1\u001b[1;33m \u001b[0mmetrics\u001b[0m  \u001b[1;33m=\u001b[0m \u001b[0mmodel\u001b[0m\u001b[1;33m.\u001b[0m\u001b[0meval_metrics\u001b[0m\u001b[1;33m(\u001b[0m\u001b[0mtest_pool\u001b[0m\u001b[1;33m,\u001b[0m\u001b[0mmetrics\u001b[0m\u001b[1;33m=\u001b[0m\u001b[1;33m[\u001b[0m\u001b[1;34m'Accuracy'\u001b[0m\u001b[1;33m,\u001b[0m\u001b[1;34m'AUC'\u001b[0m\u001b[1;33m]\u001b[0m\u001b[1;33m,\u001b[0m\u001b[0mplot\u001b[0m\u001b[1;33m=\u001b[0m\u001b[1;32mTrue\u001b[0m\u001b[1;33m)\u001b[0m\u001b[1;33m\u001b[0m\u001b[1;33m\u001b[0m\u001b[0m\n\u001b[0m",
      "\u001b[1;31mNameError\u001b[0m: name 'model' is not defined"
     ]
    }
   ],
   "source": [
    "metrics  = model.eval_metrics(test_pool,metrics=['Accuracy','AUC'],plot=True)"
   ]
  },
  {
   "cell_type": "code",
   "execution_count": null,
   "id": "f8d573b8",
   "metadata": {},
   "outputs": [],
   "source": []
  },
  {
   "cell_type": "markdown",
   "id": "1ad2b49a",
   "metadata": {},
   "source": [
    "this was what i do to get the idea of number of iterations to use... due to the fact that this process is expensive to calculate..\n",
    "i terminated the process after getting idea about the parameters to use."
   ]
  },
  {
   "cell_type": "code",
   "execution_count": null,
   "id": "537ca720",
   "metadata": {},
   "outputs": [],
   "source": []
  },
  {
   "cell_type": "code",
   "execution_count": 253,
   "id": "cfc35ce9",
   "metadata": {},
   "outputs": [],
   "source": [
    "# from sklearn.model_selection import GridSearchCV\n",
    "# parag_grid = {\n",
    "#     'learning_rate':np.linspace(1,0.8,3),\n",
    "#     'depth':[4,5],\n",
    "#     'iterations':np.linspace(300,500,3,dtype=int),\n",
    "#     'verbose':[20],\n",
    "#     use_best_model=True,\n",
    "#     train_dir='osun_flood'\n",
    "    \n",
    "# }\n",
    "# clf = CatBoostClassifier(cat_features=cat_feature)\n",
    "# grid_search = GridSearchCV(clf,param_grid=parag_grid,cv=5)\n",
    "# result = grid_search.fit(X_train,y_train)\n",
    "\n",
    "# print(result.best_estimator_)\n",
    "# print(result.best_score_)\n",
    "# print(result.best_estimator_.get_params_)\n",
    "# print(result.best_params_)"
   ]
  }
 ],
 "metadata": {
  "kernelspec": {
   "display_name": "Python 3 (ipykernel)",
   "language": "python",
   "name": "python3"
  },
  "language_info": {
   "codemirror_mode": {
    "name": "ipython",
    "version": 3
   },
   "file_extension": ".py",
   "mimetype": "text/x-python",
   "name": "python",
   "nbconvert_exporter": "python",
   "pygments_lexer": "ipython3",
   "version": "3.9.12"
  }
 },
 "nbformat": 4,
 "nbformat_minor": 5
}
